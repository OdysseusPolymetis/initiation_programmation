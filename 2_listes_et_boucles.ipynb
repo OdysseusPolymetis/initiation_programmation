{
  "nbformat": 4,
  "nbformat_minor": 0,
  "metadata": {
    "colab": {
      "provenance": [],
      "authorship_tag": "ABX9TyPAyNSVu6l/+2/6i/niJJR4",
      "include_colab_link": true
    },
    "kernelspec": {
      "name": "python3",
      "display_name": "Python 3"
    },
    "language_info": {
      "name": "python"
    }
  },
  "cells": [
    {
      "cell_type": "markdown",
      "metadata": {
        "id": "view-in-github",
        "colab_type": "text"
      },
      "source": [
        "<a href=\"https://colab.research.google.com/github/OdysseusPolymetis/initiation_programmation/blob/main/2_listes_et_boucles.ipynb\" target=\"_parent\"><img src=\"https://colab.research.google.com/assets/colab-badge.svg\" alt=\"Open In Colab\"/></a>"
      ]
    },
    {
      "cell_type": "markdown",
      "source": [
        "# Les listes"
      ],
      "metadata": {
        "id": "TqwmNMP1RUqW"
      }
    },
    {
      "cell_type": "markdown",
      "source": [
        "Vous avez la phrase suivante : \"À vaincre sans péril, on triomphe sans gloire.\".\n",
        "<br>Commencez par en faire une variable appelée `phrase`."
      ],
      "metadata": {
        "id": "9cutHnwmRXCb"
      }
    },
    {
      "cell_type": "code",
      "execution_count": 1,
      "metadata": {
        "id": "OGNhgXfnQ6pW"
      },
      "outputs": [],
      "source": [
        "phrase=\"À vaincre sans péril, on triomphe sans gloire.\""
      ]
    },
    {
      "cell_type": "markdown",
      "source": [
        "Imaginez que vous voulez analyser la phrase automatiquement.\n",
        "<br>Vous n'allez pas pouvoir faire une variable pour chaque mot, ce serait trop long.\n",
        "<br>Donc, on va essayer de découper la phrase en variables tacites, qui seront stockées dans une liste.\n",
        "<br>En fait, si vous faites ça :"
      ],
      "metadata": {
        "id": "VPEhMCcYTKVt"
      }
    },
    {
      "cell_type": "code",
      "source": [
        "liste_mots = phrase.split()"
      ],
      "metadata": {
        "id": "kadl8_H4SYre"
      },
      "execution_count": 2,
      "outputs": []
    },
    {
      "cell_type": "markdown",
      "source": [
        "C'est comme si vous aviez créé une variable pour chaque mot. Mais manipulons d'abord les choses plus simplement, en créant quelques variables uniques."
      ],
      "metadata": {
        "id": "KH6yAtakTpB6"
      }
    },
    {
      "cell_type": "code",
      "source": [
        "mot1=\"À\"\n",
        "mot2=\"vaincre\"\n",
        "mot3=\"sans\"\n",
        "mot4=\"péril\""
      ],
      "metadata": {
        "id": "TBBgBwPmToEA"
      },
      "execution_count": 3,
      "outputs": []
    },
    {
      "cell_type": "markdown",
      "source": [
        "Il s'agit ici de variables de type `string`.\n",
        "<br>Voyons si on peut les manipuler un peu.\n",
        "<br>Essayez d'ajouter un \"X\" à `mot1` en faisant ça :\n",
        "<br>`mot1=mot1+\"X\"`\n",
        "<br>Puis faites de même pour le reste."
      ],
      "metadata": {
        "id": "KSEXLvCaUCra"
      }
    },
    {
      "cell_type": "code",
      "source": [
        "mot1=mot1+\"X\""
      ],
      "metadata": {
        "id": "p4lCW6LzT93V"
      },
      "execution_count": 4,
      "outputs": []
    },
    {
      "cell_type": "markdown",
      "source": [
        "Maintenant essayez d'imprimer le résultat avec la fonction `print(votreVariable)`."
      ],
      "metadata": {
        "id": "OZ9pUK0dU0cR"
      }
    },
    {
      "cell_type": "code",
      "source": [
        "print(mot1)"
      ],
      "metadata": {
        "colab": {
          "base_uri": "https://localhost:8080/"
        },
        "id": "f7NKOffpUyY5",
        "outputId": "74282d65-e49d-4902-ae5b-050327ca9492"
      },
      "execution_count": 5,
      "outputs": [
        {
          "output_type": "stream",
          "name": "stdout",
          "text": [
            "ÀX\n"
          ]
        }
      ]
    },
    {
      "cell_type": "markdown",
      "source": [
        "Maintenant que vous avez fait ça, essayez de reconstituer la phrase de base. Comment pensez-vous faire ?"
      ],
      "metadata": {
        "id": "zeeWNS2uVOqJ"
      }
    },
    {
      "cell_type": "code",
      "source": [],
      "metadata": {
        "id": "IlzdPKAbVChm"
      },
      "execution_count": null,
      "outputs": []
    },
    {
      "cell_type": "markdown",
      "source": [
        "Maintenant, reprenons notre liste obtenue avec la fonction `split()` (qui par défaut divise une chaîne de caractères sur les espaces).\n",
        "<br>Nous allons voir que nous pouvons accéder aux valeurs encapsulées dans cette liste avec les index, c'est-à-dire les places des valeurs dans la liste.\n",
        "<br>Pour accéder à un index précis d'une liste, il faut mettre cet index entre [ ].\n",
        "<br>Essayez maintenant d'accéder au premier élément de la liste avec la fonction `print()`."
      ],
      "metadata": {
        "id": "lnM21O4LVbM3"
      }
    },
    {
      "cell_type": "code",
      "source": [],
      "metadata": {
        "id": "4AroIVRcWXgT"
      },
      "execution_count": null,
      "outputs": []
    },
    {
      "cell_type": "markdown",
      "source": [
        "Que constatez-vous ?\n",
        "<br>Maintenant réessayez en affichant cette fois l'intégralité des valeurs présentes dans `liste_mots`."
      ],
      "metadata": {
        "id": "vahW7z7wWaHq"
      }
    },
    {
      "cell_type": "code",
      "source": [],
      "metadata": {
        "id": "L-53poPGWctV"
      },
      "execution_count": null,
      "outputs": []
    },
    {
      "cell_type": "markdown",
      "source": [
        "Maintenant, essayons d'ajouter autre chose que des variables de type `string` à la liste."
      ],
      "metadata": {
        "id": "LRgsacUKW1hP"
      }
    },
    {
      "cell_type": "code",
      "source": [
        "liste_mots=liste_mots+1"
      ],
      "metadata": {
        "id": "paNeTuH9XCA0"
      },
      "execution_count": null,
      "outputs": []
    },
    {
      "cell_type": "markdown",
      "source": [
        "Est-ce que ça marche ? Pourquoi ?"
      ],
      "metadata": {
        "id": "zbHMZQTjXNIQ"
      }
    },
    {
      "cell_type": "markdown",
      "source": [
        "Autre solution : pour ajouter des valeurs à une liste existante, on utilise la fonction pré-établie `append()`.\n",
        "<br>Essayons."
      ],
      "metadata": {
        "id": "rSXkNvm7XRDw"
      }
    },
    {
      "cell_type": "code",
      "source": [
        "liste_mots.append(1)"
      ],
      "metadata": {
        "id": "9fr-pHCsXG4A"
      },
      "execution_count": 8,
      "outputs": []
    },
    {
      "cell_type": "markdown",
      "source": [
        "Maintenant imprimez la liste."
      ],
      "metadata": {
        "id": "qukwqFffXjeg"
      }
    },
    {
      "cell_type": "code",
      "source": [],
      "metadata": {
        "id": "WfD3KEWWXhwy"
      },
      "execution_count": null,
      "outputs": []
    },
    {
      "cell_type": "markdown",
      "source": [
        "Normalement vous pouvez constater que ça a marché. Cela veut dire que l'on peut ajouter n'importe quel type de variable à une liste existante (même si c'est peu conseillé).\n",
        "<br>Maintenant, essayons d'enlever la dernière valeur qu'on vient d'ajouter.\n",
        "<br>Pour cela, il y a deux manières :\n",
        "\n",
        "1.   `pop(index)` ou `pop()` si c'est le dernier élément de la liste\n",
        "2.   `remove(valeurAEnlever)`\n",
        "<br>Essayez.\n"
      ],
      "metadata": {
        "id": "gIwSQK5RXqdZ"
      }
    },
    {
      "cell_type": "code",
      "source": [],
      "metadata": {
        "id": "x3SqgoZ_XnaD"
      },
      "execution_count": null,
      "outputs": []
    },
    {
      "cell_type": "markdown",
      "source": [
        "Puis ré-imprimez votre liste. Est-ce que ça a marché ?"
      ],
      "metadata": {
        "id": "VX9yGgMKYqes"
      }
    },
    {
      "cell_type": "code",
      "source": [],
      "metadata": {
        "id": "HU9j0sIDYul5"
      },
      "execution_count": null,
      "outputs": []
    },
    {
      "cell_type": "markdown",
      "source": [
        "Maintenant on va essayer de manipuler les valeurs à l'intérieur de la liste. Comment feriez-vous pour faire que le 3ème mot soit \"XXX\" ?"
      ],
      "metadata": {
        "id": "OHTg8_hDY7BA"
      }
    },
    {
      "cell_type": "code",
      "source": [],
      "metadata": {
        "id": "6IcDw8O0ZS1Y"
      },
      "execution_count": null,
      "outputs": []
    },
    {
      "cell_type": "markdown",
      "source": [
        "Reprenons maintenant notre liste et voyons de combien d'éléments elle est composée avec la fonction pré-implémentée `len(nomDeLaListe)`."
      ],
      "metadata": {
        "id": "BD14uc2Zcab0"
      }
    },
    {
      "cell_type": "code",
      "source": [
        "len(liste_mots)"
      ],
      "metadata": {
        "colab": {
          "base_uri": "https://localhost:8080/"
        },
        "id": "HnWVSP8RctV4",
        "outputId": "1289a901-9890-4ff7-cd3b-acc92bd70cf0"
      },
      "execution_count": 10,
      "outputs": [
        {
          "output_type": "execute_result",
          "data": {
            "text/plain": [
              "9"
            ]
          },
          "metadata": {},
          "execution_count": 10
        }
      ]
    },
    {
      "cell_type": "markdown",
      "source": [
        "Maintenant, tentons de créer deux listes. D'abord de façon simple, en reprenons les variables `mot1`, `mot2`, etc.\n",
        "<br>D'abord, instanciez une liste comme ça :\n",
        "<br>`liste1=[mot1, mot2, mot3, mot4]`\n",
        "Maintenant essayez d'ajouter des valeurs. Comment faites-vous ?"
      ],
      "metadata": {
        "id": "g39WHt_8a-9z"
      }
    },
    {
      "cell_type": "code",
      "source": [],
      "metadata": {
        "id": "C35FEENZb9av"
      },
      "execution_count": null,
      "outputs": []
    },
    {
      "cell_type": "markdown",
      "source": [
        "Créez maintenant une `liste2` qui contienne le reste des mots."
      ],
      "metadata": {
        "id": "T5byM4VYc6sd"
      }
    },
    {
      "cell_type": "code",
      "source": [],
      "metadata": {
        "id": "MgO6o3UjdEPT"
      },
      "execution_count": null,
      "outputs": []
    },
    {
      "cell_type": "markdown",
      "source": [
        "Maintenant, souvenez-vous. Vous aviez exécuté la commande :\n",
        "<br>`liste_mots=liste_mots+1`\n",
        "Et ça n'avait déjà pas marché. Essayez maintenant avec `liste_mots=liste_mots+mot1`.\n",
        "<br>Que se passe-t-il ?\n"
      ],
      "metadata": {
        "id": "tesZdFYcdEq9"
      }
    },
    {
      "cell_type": "code",
      "source": [],
      "metadata": {
        "id": "0cP0aeiadvHF"
      },
      "execution_count": null,
      "outputs": []
    },
    {
      "cell_type": "markdown",
      "source": [
        "Maintenant, tentez `liste1 + liste2`."
      ],
      "metadata": {
        "id": "uxtWN9bldv2f"
      }
    },
    {
      "cell_type": "code",
      "source": [],
      "metadata": {
        "id": "91O5-cSld4Jc"
      },
      "execution_count": null,
      "outputs": []
    },
    {
      "cell_type": "markdown",
      "source": [
        "Il est donc possible de concaténer des objets de même type, même si l'on peut ajouter des valeurs de tout type dans les listes."
      ],
      "metadata": {
        "id": "qwt_OmWQd53o"
      }
    },
    {
      "cell_type": "markdown",
      "source": [
        "# Exercice"
      ],
      "metadata": {
        "id": "Xsw1bZegeIzZ"
      }
    },
    {
      "cell_type": "markdown",
      "source": [
        "Maintenant prenez aussi une phrase de votre choix et encapsulez-là dans une variable."
      ],
      "metadata": {
        "id": "ZV8puOlkeNpc"
      }
    },
    {
      "cell_type": "code",
      "source": [],
      "metadata": {
        "id": "al2c_bp7eDsU"
      },
      "execution_count": null,
      "outputs": []
    },
    {
      "cell_type": "markdown",
      "source": [
        "Ensuite, faites-en une liste de mots qui porte le nom `ma_liste`."
      ],
      "metadata": {
        "id": "vBcflZA8eUW1"
      }
    },
    {
      "cell_type": "code",
      "source": [],
      "metadata": {
        "id": "sEmxYL4ieaPz"
      },
      "execution_count": null,
      "outputs": []
    },
    {
      "cell_type": "markdown",
      "source": [
        "Ajoutez-y une valeur de type `int`. Puis imprimez-la."
      ],
      "metadata": {
        "id": "PPqVjw7sebf3"
      }
    },
    {
      "cell_type": "code",
      "source": [],
      "metadata": {
        "id": "i3f2tfZlegr_"
      },
      "execution_count": null,
      "outputs": []
    },
    {
      "cell_type": "markdown",
      "source": [
        "Enlevez maintenant la valeur que vous venez d'ajouter."
      ],
      "metadata": {
        "id": "LSNu2wIiehRX"
      }
    },
    {
      "cell_type": "code",
      "source": [],
      "metadata": {
        "id": "p3Xl96XAepTL"
      },
      "execution_count": null,
      "outputs": []
    },
    {
      "cell_type": "markdown",
      "source": [
        "# Les boucles"
      ],
      "metadata": {
        "id": "PKiwshE8exCF"
      }
    },
    {
      "cell_type": "markdown",
      "source": [
        "Maintenant, nous voulons une manière plus pratique pour parcourir les listes. En effet, imaginez que votre liste contienne un million de mots et que vous vouliez voir certains de ces mots : vous ne pourriez pas créer une variable pour chaque mot, et parcourir un à un les éléments de la liste.\n",
        "<br>C'est à ça que servent les boucles."
      ],
      "metadata": {
        "id": "goFAH1gjez8R"
      }
    },
    {
      "cell_type": "markdown",
      "source": [
        "## Les boucles `for`"
      ],
      "metadata": {
        "id": "QfgFht7_gBfx"
      }
    },
    {
      "cell_type": "markdown",
      "source": [
        "Une boucle `for` permet de parcourir l'intégralité d'une liste comme ça :\n",
        "```python\n",
        "for element in ma_liste:\n",
        "  print(element)\n",
        "```\n",
        "<br>En fait, `element` pourrait tout à fait s'appeler autrement, c'est juste une variable éphémère qui représente chaque élément de la liste. <br>Essayez d'abord en copiant le code tel quel.\n",
        "\n",
        "\n",
        "\n",
        "\n",
        "\n",
        "\n"
      ],
      "metadata": {
        "id": "iM9zSp65gHPc"
      }
    },
    {
      "cell_type": "code",
      "source": [],
      "metadata": {
        "id": "pkmZEy9Xezcg"
      },
      "execution_count": null,
      "outputs": []
    },
    {
      "cell_type": "markdown",
      "source": [
        "Maintenant, essayez de faire la même chose en changeant le nom `element` en `test`."
      ],
      "metadata": {
        "id": "kHKQf6kih-8A"
      }
    },
    {
      "cell_type": "code",
      "source": [],
      "metadata": {
        "id": "_6qibtIUiHCN"
      },
      "execution_count": null,
      "outputs": []
    },
    {
      "cell_type": "markdown",
      "source": [
        "## Les boucles `while`"
      ],
      "metadata": {
        "id": "gqoZstufiS1N"
      }
    },
    {
      "cell_type": "markdown",
      "source": [
        "C'est un peu la même chose pour les boucles `while`, mais les conditions d'itération sont un peu plus explicites. La boucle `while` est l'équivalent du \"tant que cette condition est remplie, fais ça\".\n"
      ],
      "metadata": {
        "id": "t2ZytqUdiily"
      }
    },
    {
      "cell_type": "markdown",
      "source": [
        "D'après vous, si j'écris ça :\n",
        "```python\n",
        "while index < len(ma_liste):\n",
        "  print(ma_liste[index])\n",
        "  index+=1\n",
        "```\n",
        "Qu'est-ce que cela fait ? Pouvez-vous m'expliquer ?"
      ],
      "metadata": {
        "id": "j8zDVlhPi3kh"
      }
    },
    {
      "cell_type": "code",
      "source": [],
      "metadata": {
        "id": "6i8fA1VbiYAi"
      },
      "execution_count": null,
      "outputs": []
    },
    {
      "cell_type": "markdown",
      "source": [
        "# Exercice"
      ],
      "metadata": {
        "id": "hsQOHg3Hjnr-"
      }
    },
    {
      "cell_type": "markdown",
      "source": [
        "Maintenant, nous allons changer les valeurs de la liste en quelques lignes.\n",
        "<br>Vous devrez mettre toutes les valeurs en majuscules grâce à la fonction pré-implémentée `.upper()`.\n",
        "<br>Voilà comment on utilise `.upper()`:\n",
        "```python\n",
        "element=element.upper()\n",
        "```"
      ],
      "metadata": {
        "id": "Ti4y3j_cjrgM"
      }
    },
    {
      "cell_type": "markdown",
      "source": [
        "Maintenant, créez une `nouvelle_liste` qui soit une copie de `liste_mots`.\n"
      ],
      "metadata": {
        "id": "YJdOK4DJkW2F"
      }
    },
    {
      "cell_type": "code",
      "source": [],
      "metadata": {
        "id": "Nvw8-y8FjqZA"
      },
      "execution_count": null,
      "outputs": []
    },
    {
      "cell_type": "markdown",
      "source": [
        "<br>Faites la même chose avec la fonction `.swapcase()`."
      ],
      "metadata": {
        "id": "48eVtydjlGe9"
      }
    },
    {
      "cell_type": "code",
      "source": [],
      "metadata": {
        "id": "XV0_fhqQlHew"
      },
      "execution_count": null,
      "outputs": []
    },
    {
      "cell_type": "markdown",
      "source": [
        "<br>Cette fois, imprimez votre liste `nouvelle_liste` avec une boucle `for`."
      ],
      "metadata": {
        "id": "jxNFcnIAlBNN"
      }
    },
    {
      "cell_type": "code",
      "source": [],
      "metadata": {
        "id": "NwApJoiklCYU"
      },
      "execution_count": null,
      "outputs": []
    }
  ]
}