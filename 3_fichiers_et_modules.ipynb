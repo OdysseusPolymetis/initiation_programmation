{
  "nbformat": 4,
  "nbformat_minor": 0,
  "metadata": {
    "colab": {
      "provenance": [],
      "authorship_tag": "ABX9TyNf7YUPy8OSS+yNTA2HolKl",
      "include_colab_link": true
    },
    "kernelspec": {
      "name": "python3",
      "display_name": "Python 3"
    },
    "language_info": {
      "name": "python"
    }
  },
  "cells": [
    {
      "cell_type": "markdown",
      "metadata": {
        "id": "view-in-github",
        "colab_type": "text"
      },
      "source": [
        "<a href=\"https://colab.research.google.com/github/OdysseusPolymetis/initiation_programmation/blob/main/3_fichiers_et_modules.ipynb\" target=\"_parent\"><img src=\"https://colab.research.google.com/assets/colab-badge.svg\" alt=\"Open In Colab\"/></a>"
      ]
    },
    {
      "cell_type": "markdown",
      "source": [
        "# Les fichiers"
      ],
      "metadata": {
        "id": "rkQeEkn1AFPv"
      }
    },
    {
      "cell_type": "markdown",
      "source": [
        "Dans beaucoup de cas, vous aurez à recourir à des fichiers de données externes. Dans ce cours, nous allons beaucoup faire appel à des fichiers `.txt`, c'est-à-dire des fichiers textes bruts.\n",
        "<br>Mais vous pouvez aussi avoir accès à tout autre type de fichiers, comme des excel ou des html.\n",
        "<br>Pour ouvrir un fichier, il vous faut simplement utiliser la fonction `.open()`.\n",
        "<br>Exemple :\n",
        "```python\n",
        "fichier = open('l_avare.txt')\n",
        "```\n",
        "Tentez de lancer la commande. Expliquez ce que vous obtenez."
      ],
      "metadata": {
        "id": "2tLsmnElALIx"
      }
    },
    {
      "cell_type": "code",
      "execution_count": null,
      "metadata": {
        "id": "LI5Uwe7w1Klm"
      },
      "outputs": [],
      "source": []
    },
    {
      "cell_type": "markdown",
      "source": [
        "Pour obtenir un fichier qui soit analysable par votre programme il faut :\n",
        "\n",
        "\n",
        "*   si vous êtes dans un programme que vous exécutez localement, mettre le fichier en question de préférence dans le même dossier que votre programme (ou dans un sous-dossier), et en retrouver le chemin.\n",
        "*   si vous êtes dans un environnement virtuel distant comme avec google colab, mettre votre fichier dans l'icône dossier sur le côté gauche, ou, mieux, télécharger votre fichier.\n",
        "\n"
      ],
      "metadata": {
        "id": "VtZ_nMZhA-iK"
      }
    },
    {
      "cell_type": "markdown",
      "source": [
        "Vous avez plusieurs manières d'acquérir un fichier en ligne, la commande la plus simple étant `wget` (ou aussi `curl`). Attention, il s'agit d'une commande qu'on dit \"bash\", et qui donc n'est pas à proprement parler du python : pour l'utiliser dans un code python, il faut la faire précéder de \"!\".\n",
        "```python\n",
        "!wget https://raw.githubusercontent.com/OdysseusPolymetis/initiation_programmation/main/l_avare.txt -O l_avare.txt\n",
        "```"
      ],
      "metadata": {
        "id": "KUODdbtgBdd2"
      }
    },
    {
      "cell_type": "code",
      "source": [],
      "metadata": {
        "id": "eCJ-yDv-BcAQ"
      },
      "execution_count": null,
      "outputs": []
    },
    {
      "cell_type": "markdown",
      "source": [
        "Normalement, à l'issue de cette commande, si vous refaites la toute première commande `open()`, vous n'aurez plus d'erreur. Attention, en colab, le chemin de votre fichier (qui sera à mettre dans la chaîne de caractères qui comporte le nom du fichier) est `/content/l_avare.txt`.\n",
        "<br>Mais attention, ça ne veut pas forcément dire que vous aurez \"quelque chose\".\n",
        "<br>Maintenant que votre fichier est instancié en revanche, vous pouvez le lire. Avec cette commande :\n",
        "```python\n",
        "fichier.read()\n",
        "```\n",
        "Normalement vous verrez le contenu s'afficher.\n",
        "\n"
      ],
      "metadata": {
        "id": "o-CARMNZC_dR"
      }
    },
    {
      "cell_type": "code",
      "source": [],
      "metadata": {
        "id": "Ks8fmKAED1SJ"
      },
      "execution_count": null,
      "outputs": []
    },
    {
      "cell_type": "markdown",
      "source": [
        "Tentez maintenant ce bout et dites-moi ce que ça fait :\n",
        "```python\n",
        "for ligne in fichier:\n",
        "    print(str(len(ligne)) + ' caractères : ' + ligne)\n",
        "fichier.close()\n",
        "```\n",
        "Essayez d'expliquer."
      ],
      "metadata": {
        "id": "syGyHx8CDqsM"
      }
    },
    {
      "cell_type": "code",
      "source": [],
      "metadata": {
        "id": "SOt0a9Y6Dily"
      },
      "execution_count": null,
      "outputs": []
    },
    {
      "cell_type": "markdown",
      "source": [
        "Maintenant, essayez d'écrire, en vous aidant de ce qu'on a fait lors du notebook précédent, quelques lignes qui vous permettent de trouver combien il y a de lignes dans votre fichier."
      ],
      "metadata": {
        "id": "B8JJFlsaD2qk"
      }
    },
    {
      "cell_type": "code",
      "source": [],
      "metadata": {
        "id": "lbIYzxp3EI0h"
      },
      "execution_count": null,
      "outputs": []
    },
    {
      "cell_type": "markdown",
      "source": [
        "Vous pouvez tout aussi bien écrire dans un fichier, la méthode est la suivante :\n",
        "```python\n",
        "fichier = open('/content/fichier.txt', 'w') #le paramètre 'w' indique que l'on ouvre le fichier en mode éciture  (write)\n",
        "fichier.write('un peu de texte')\n",
        "fichier.write('encore un peu de texte\\n')#si l'on veut revenir à ligne, il faut écrire le caractère retour à la ligne, qui s'écrit \\n\n",
        "fichier.write(\"et l'on termine\")\n",
        "fichier.close()#il faut explicitement fermer le fichier, sinon on est pas sûr que ce que l'on a écrit est bien enregistré\n",
        "```\n",
        "Essayez en écrivant un peu ce que vous voulez dans le fichier."
      ],
      "metadata": {
        "id": "snckbWaPEKDV"
      }
    },
    {
      "cell_type": "code",
      "source": [],
      "metadata": {
        "id": "qBiJdLYrFOgK"
      },
      "execution_count": null,
      "outputs": []
    },
    {
      "cell_type": "markdown",
      "source": [
        "Maintenant que vous savez importer ou écrire du texte, vous allez pouvoir le manipuler un peu, et faire un peu d'analyse simple."
      ],
      "metadata": {
        "id": "s0LC1jn5FN6k"
      }
    },
    {
      "cell_type": "markdown",
      "source": [
        "# Les modules"
      ],
      "metadata": {
        "id": "-r5paYiZFVuT"
      }
    },
    {
      "cell_type": "markdown",
      "source": [
        "Un module c'est une suite de fonctions et de programmes plus larges écrits par d'autres pour vous éviter de réinventer la roue. Vous avez des tas de modules qui sont référencés dans [pypi](https://pypi.org/).\n",
        "<br>Ici on va faire des expériences avec le module de traitement automatique de la langue `nltk`."
      ],
      "metadata": {
        "id": "ggyv9_U6Fv1_"
      }
    },
    {
      "cell_type": "markdown",
      "source": [
        "Pour installer un module qui n'est pas présent par défaut dans votre environnement, c'est très simple, vous utilisez une commande bash et vous faites `!pip install nomDuModule`."
      ],
      "metadata": {
        "id": "-y5zlPAQGJSp"
      }
    },
    {
      "cell_type": "markdown",
      "source": [
        "Ici, si vous voulez installer `nltk`, faites `!pip install nltk`. Que constatez-vous ?"
      ],
      "metadata": {
        "id": "8_rHK8nPGT2f"
      }
    },
    {
      "cell_type": "code",
      "source": [],
      "metadata": {
        "id": "j3VpuwgqFVDe"
      },
      "execution_count": null,
      "outputs": []
    },
    {
      "cell_type": "markdown",
      "source": [
        "Il ne s'agit pas seulement de télécharger les modules, il faut que le programme sache qu'il doit les utiliser.\n",
        "<br>Pour utiliser un module, on l'importe, comme ça :\n",
        "```python\n",
        "import nltk\n",
        "```\n",
        "Ou si on n'a pas besoin de tout le module :\n",
        "```python\n",
        "from nltk import particular_module\n",
        "```\n",
        "Du coup importez tout `nltk`."
      ],
      "metadata": {
        "id": "HBcqhmusGdP2"
      }
    },
    {
      "cell_type": "code",
      "source": [],
      "metadata": {
        "id": "SKiPwY6rO-sa"
      },
      "execution_count": null,
      "outputs": []
    },
    {
      "cell_type": "markdown",
      "source": [
        "Il faut savoir que selon vos usages, il manquera peut-être des données à `nltk`. Le cas échéant, il vous en informe. Et la plupart du temps, vous pouvez résoudre l'erreur avec ce type de commande :\n",
        "```python\n",
        "nltk.download('punkt')\n",
        "```\n",
        "où `punkt` est la série de données manquante.\n",
        "<br>Faites-le ici."
      ],
      "metadata": {
        "id": "yDhxj_0LRiTa"
      }
    },
    {
      "cell_type": "code",
      "source": [],
      "metadata": {
        "id": "pSXVCD4cR5XN"
      },
      "execution_count": null,
      "outputs": []
    },
    {
      "cell_type": "markdown",
      "source": [
        "Le module `nltk` vous permet de faire pas mal de choses simples avec un texte. Je vais vous en montrer certains des composants."
      ],
      "metadata": {
        "id": "B9R0f8nAPEn1"
      }
    },
    {
      "cell_type": "markdown",
      "source": [
        "## Concordance avec `nltk`"
      ],
      "metadata": {
        "id": "E6c_leHlPTVB"
      }
    },
    {
      "cell_type": "markdown",
      "source": [
        "La concordance, c'est le fait d'afficher un mot dans son contexte à partir d'un texte.\n",
        "<br>Pour être sûre que tout soit bien au clair, reprenons l'ouverture de notre fichier depuis le début, comme ça :\n",
        "```python\n",
        "fichier = open('/content/l_avare.txt')\n",
        "texte = fichier.read()\n",
        "```\n",
        "Notez que nous avons mis le contenu du fichier dans une variable `texte`.\n",
        "<br>Faites-le dans la cellule ci-dessous."
      ],
      "metadata": {
        "id": "_c0J7ZU6PXG-"
      }
    },
    {
      "cell_type": "code",
      "source": [
        "fichier = open('/content/l_avare.txt')\n",
        "texte = fichier.read()"
      ],
      "metadata": {
        "id": "By9XwSLvPSp_"
      },
      "execution_count": null,
      "outputs": []
    },
    {
      "cell_type": "markdown",
      "source": [
        "Ensuite, pour que `nltk` puisse analyser le texte, il faut faire de ce texte une liste de mots. C'est ce qu'on appelle \"tokéniser\" un texte, c'est-à-dire le découper en éléments-mots distincts, les \"tokens\".\n",
        "<br>On fait donc comme suit :\n",
        "```python\n",
        "tokens = nltk.word_tokenize(texte)\n",
        "```\n",
        "Cela fait, l'analyse à proprement parler peut commencer, avec une fonction pré-implémentée dans `nltk`, à savoir `.Text(votreListe)`.\n",
        "<br>Essayez, avec ce que vous avez à disposition.\n",
        "<br>Encapsulez le résultat de la fonction `.Text()` dans la variable `avare`."
      ],
      "metadata": {
        "id": "-pkDyqccQe5-"
      }
    },
    {
      "cell_type": "code",
      "source": [],
      "metadata": {
        "id": "tfTSqpUBRLWU"
      },
      "execution_count": null,
      "outputs": []
    },
    {
      "cell_type": "markdown",
      "source": [
        "Une fois que vous avez trouvé comment faire, vous pouvez utiliser une des fonctions accessible à votre nouvel objet `avare`, la fonction `.concordance(lemotquevouscherchez)`."
      ],
      "metadata": {
        "id": "6_iyKavFSM__"
      }
    },
    {
      "cell_type": "code",
      "source": [],
      "metadata": {
        "id": "tApCl1wlRcoV"
      },
      "execution_count": null,
      "outputs": []
    },
    {
      "cell_type": "markdown",
      "source": [
        "Autre exemple, vous pouvez voir combien de fois un mot ou une expression apparaît dans un texte. C'est la fonction `.count(lemotrecherche)`. Faites-le."
      ],
      "metadata": {
        "id": "NDopWaYvS2-D"
      }
    },
    {
      "cell_type": "code",
      "source": [],
      "metadata": {
        "id": "Dv8F9sH1SIGT"
      },
      "execution_count": null,
      "outputs": []
    },
    {
      "cell_type": "markdown",
      "source": [
        "Vous pouvez aussi rapidement voir quels termes sont souvent déterminants dans un texte, et souvent ensemble. On appelle ça la détection de collocations. Par défaut, `nltk` va chercher les paires de mots, mais vous pouvez changer ce paramètre.\n",
        "<br>Voici un exemple :\n",
        "```python\n",
        "avare.collocation_list()\n",
        "```"
      ],
      "metadata": {
        "id": "FQ5reuxcTLlF"
      }
    },
    {
      "cell_type": "markdown",
      "source": [
        "Vous pouvez aussi voir les mots qui partagent un contexte similaire, et donc qui potentiellement sont sémantiquement liés. Cela se fait avec la fonction `.similar(motrecherche)`."
      ],
      "metadata": {
        "id": "TnnUj57eXvaH"
      }
    },
    {
      "cell_type": "code",
      "source": [],
      "metadata": {
        "id": "xRaB55BiXrja"
      },
      "execution_count": null,
      "outputs": []
    },
    {
      "cell_type": "markdown",
      "source": [
        "Vous pouvez aussi représenter les fréquences des mots. Cela se fait avec la fonction `.FreqDist(vostokens)`.\n",
        "<br>Il faudra d'abord importer cette sous-fonction de `nltk` comme ça :\n",
        "```python\n",
        "from nltk import FreqDist\n",
        "```\n",
        "Encapsulez le résultat dans une variable `freq`."
      ],
      "metadata": {
        "id": "gkru1kVhY0oR"
      }
    },
    {
      "cell_type": "code",
      "source": [],
      "metadata": {
        "id": "d-gEvmCoZJ0S"
      },
      "execution_count": null,
      "outputs": []
    },
    {
      "cell_type": "markdown",
      "source": [
        "Ensuite, dans une variable `n`, dites combien vous voulez représenter de mots fréquents.\n",
        "<br>Puis utilisez votre objet `freq` comme suit :\n",
        "```python\n",
        "freq.plot(n, cumulative=False, title=f'Les {n} mots les plus fréquents')\n",
        "```"
      ],
      "metadata": {
        "id": "WU3CMiQ0ZI1h"
      }
    },
    {
      "cell_type": "code",
      "source": [],
      "metadata": {
        "id": "JXnyX1ODZIMN"
      },
      "execution_count": null,
      "outputs": []
    }
  ]
}