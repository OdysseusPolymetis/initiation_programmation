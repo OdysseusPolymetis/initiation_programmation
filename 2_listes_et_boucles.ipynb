{
  "nbformat": 4,
  "nbformat_minor": 0,
  "metadata": {
    "colab": {
      "provenance": [],
      "authorship_tag": "ABX9TyMdeZ4sTz0y/LiqNYtDvWnE",
      "include_colab_link": true
    },
    "kernelspec": {
      "name": "python3",
      "display_name": "Python 3"
    },
    "language_info": {
      "name": "python"
    }
  },
  "cells": [
    {
      "cell_type": "markdown",
      "metadata": {
        "id": "view-in-github",
        "colab_type": "text"
      },
      "source": [
        "<a href=\"https://colab.research.google.com/github/OdysseusPolymetis/initiation_programmation/blob/main/2_listes_et_boucles.ipynb\" target=\"_parent\"><img src=\"https://colab.research.google.com/assets/colab-badge.svg\" alt=\"Open In Colab\"/></a>"
      ]
    },
    {
      "cell_type": "markdown",
      "source": [
        "# Les listes"
      ],
      "metadata": {
        "id": "TqwmNMP1RUqW"
      }
    },
    {
      "cell_type": "markdown",
      "source": [
        "Vous avez la phrase suivante : \"À vaincre sans péril, on triomphe sans gloire.\".\n",
        "<br>Commencez par en faire une variable appelée `phrase`."
      ],
      "metadata": {
        "id": "9cutHnwmRXCb"
      }
    },
    {
      "cell_type": "code",
      "execution_count": null,
      "metadata": {
        "id": "OGNhgXfnQ6pW"
      },
      "outputs": [],
      "source": [
        "phrase=\"À vaincre sans péril, on triomphe sans gloire.\""
      ]
    },
    {
      "cell_type": "markdown",
      "source": [
        "Imaginez que vous voulez analyser la phrase automatiquement.\n",
        "<br>Vous n'allez pas pouvoir faire une variable pour chaque mot, ce serait trop long.\n",
        "<br>Donc, on va essayer de découper la phrase en variables tacites, qui seront stockées dans une liste.\n",
        "<br>En fait, si vous faites ça :"
      ],
      "metadata": {
        "id": "VPEhMCcYTKVt"
      }
    },
    {
      "cell_type": "code",
      "source": [
        "liste_mots = phrase.split()"
      ],
      "metadata": {
        "id": "kadl8_H4SYre"
      },
      "execution_count": null,
      "outputs": []
    },
    {
      "cell_type": "code",
      "source": [
        "liste_mots"
      ],
      "metadata": {
        "id": "pyt77NQwZIwu"
      },
      "execution_count": null,
      "outputs": []
    },
    {
      "cell_type": "code",
      "source": [
        "len(liste_mots)"
      ],
      "metadata": {
        "id": "5awzo7NYnObx"
      },
      "execution_count": null,
      "outputs": []
    },
    {
      "cell_type": "markdown",
      "source": [
        "C'est comme si vous aviez créé une variable pour chaque mot. Mais manipulons d'abord les choses plus simplement, en créant quelques variables uniques."
      ],
      "metadata": {
        "id": "KH6yAtakTpB6"
      }
    },
    {
      "cell_type": "code",
      "source": [
        "mot1=\"À\"\n",
        "mot2=\"vaincre\"\n",
        "mot3=\"sans\"\n",
        "mot4=\"péril\""
      ],
      "metadata": {
        "id": "TBBgBwPmToEA"
      },
      "execution_count": null,
      "outputs": []
    },
    {
      "cell_type": "markdown",
      "source": [
        "Il s'agit ici de variables de type `string`.\n",
        "<br>Voyons si on peut les manipuler un peu.\n",
        "<br>Essayez d'ajouter un \"X\" à `mot1` en faisant ça :\n",
        "<br>`mot1=mot1+\"X\"`\n",
        "<br>Puis faites de même pour le reste."
      ],
      "metadata": {
        "id": "KSEXLvCaUCra"
      }
    },
    {
      "cell_type": "code",
      "source": [
        "mot1=mot1+\"X\""
      ],
      "metadata": {
        "id": "p4lCW6LzT93V"
      },
      "execution_count": null,
      "outputs": []
    },
    {
      "cell_type": "code",
      "source": [
        "mot1"
      ],
      "metadata": {
        "id": "zCS4yfaXZWjM"
      },
      "execution_count": null,
      "outputs": []
    },
    {
      "cell_type": "markdown",
      "source": [
        "Maintenant essayez d'imprimer le résultat avec la fonction `print(votreVariable)`."
      ],
      "metadata": {
        "id": "OZ9pUK0dU0cR"
      }
    },
    {
      "cell_type": "code",
      "source": [
        "print(mot1)"
      ],
      "metadata": {
        "id": "f7NKOffpUyY5"
      },
      "execution_count": null,
      "outputs": []
    },
    {
      "cell_type": "markdown",
      "source": [
        "Maintenant que vous avez fait ça, essayez de reconstituer la phrase de base. Comment pensez-vous faire ?"
      ],
      "metadata": {
        "id": "zeeWNS2uVOqJ"
      }
    },
    {
      "cell_type": "code",
      "source": [
        "#print(mot1[:-1], mot2, mot3, mot4)\n",
        "mot1+\" \"+mot2+\" \"+mot3+\" \"+mot4"
      ],
      "metadata": {
        "id": "IlzdPKAbVChm"
      },
      "execution_count": null,
      "outputs": []
    },
    {
      "cell_type": "markdown",
      "source": [
        "Maintenant, reprenons notre liste obtenue avec la fonction `split()` (qui par défaut divise une chaîne de caractères sur les espaces).\n",
        "<br>Nous allons voir que nous pouvons accéder aux valeurs encapsulées dans cette liste avec les index, c'est-à-dire les places des valeurs dans la liste.\n",
        "<br>Pour accéder à un index précis d'une liste, il faut mettre cet index entre [ ].\n",
        "<br>Essayez maintenant d'accéder au premier élément de la liste avec la fonction `print()`."
      ],
      "metadata": {
        "id": "lnM21O4LVbM3"
      }
    },
    {
      "cell_type": "code",
      "source": [
        "liste_mots[7]"
      ],
      "metadata": {
        "id": "4AroIVRcWXgT"
      },
      "execution_count": null,
      "outputs": []
    },
    {
      "cell_type": "markdown",
      "source": [
        "Que constatez-vous ?\n",
        "<br>Maintenant réessayez en affichant cette fois l'intégralité des valeurs présentes dans `liste_mots`."
      ],
      "metadata": {
        "id": "vahW7z7wWaHq"
      }
    },
    {
      "cell_type": "code",
      "source": [
        "print(liste_mots[0])\n",
        "print(liste_mots[1])\n",
        "print(liste_mots[2])\n",
        "print(liste_mots[3])\n",
        "print(liste_mots[4])\n",
        "print(liste_mots[5])\n",
        "print(liste_mots[6])\n",
        "print(liste_mots[7])"
      ],
      "metadata": {
        "id": "L-53poPGWctV"
      },
      "execution_count": null,
      "outputs": []
    },
    {
      "cell_type": "markdown",
      "source": [
        "Maintenant, essayons d'ajouter autre chose que des variables de type `string` à la liste."
      ],
      "metadata": {
        "id": "LRgsacUKW1hP"
      }
    },
    {
      "cell_type": "markdown",
      "source": [
        "Est-ce que ça marche ? Pourquoi ?"
      ],
      "metadata": {
        "id": "zbHMZQTjXNIQ"
      }
    },
    {
      "cell_type": "markdown",
      "source": [
        "Autre solution : pour ajouter des valeurs à une liste existante, on utilise la fonction pré-établie `append()`.\n",
        "<br>Essayons."
      ],
      "metadata": {
        "id": "rSXkNvm7XRDw"
      }
    },
    {
      "cell_type": "code",
      "source": [
        "liste_mots = phrase.split()"
      ],
      "metadata": {
        "id": "xWc5_PqZdZYy"
      },
      "execution_count": null,
      "outputs": []
    },
    {
      "cell_type": "code",
      "source": [
        "liste_mots.append(1)"
      ],
      "metadata": {
        "id": "9fr-pHCsXG4A"
      },
      "execution_count": null,
      "outputs": []
    },
    {
      "cell_type": "markdown",
      "source": [
        "Maintenant imprimez la liste."
      ],
      "metadata": {
        "id": "qukwqFffXjeg"
      }
    },
    {
      "cell_type": "code",
      "source": [
        "liste_mots"
      ],
      "metadata": {
        "id": "WfD3KEWWXhwy"
      },
      "execution_count": null,
      "outputs": []
    },
    {
      "cell_type": "markdown",
      "source": [
        "Normalement vous pouvez constater que ça a marché. Cela veut dire que l'on peut ajouter n'importe quel type de variable à une liste existante (même si c'est peu conseillé).\n",
        "<br>Maintenant, essayons d'enlever la dernière valeur qu'on vient d'ajouter.\n",
        "<br>Pour cela, il y a deux manières :\n",
        "\n",
        "1.   `pop(index)` ou `pop()` si c'est le dernier élément de la liste\n",
        "2.   `remove(valeurAEnlever)`\n",
        "<br>Essayez.\n"
      ],
      "metadata": {
        "id": "gIwSQK5RXqdZ"
      }
    },
    {
      "cell_type": "code",
      "source": [
        "liste_mots.pop(2)"
      ],
      "metadata": {
        "id": "x3SqgoZ_XnaD"
      },
      "execution_count": null,
      "outputs": []
    },
    {
      "cell_type": "code",
      "source": [
        "liste_mots"
      ],
      "metadata": {
        "id": "nrxzk3GzekYB"
      },
      "execution_count": null,
      "outputs": []
    },
    {
      "cell_type": "code",
      "source": [
        "liste_mots.remove(\"sans\")"
      ],
      "metadata": {
        "id": "css5MXgaeqiw"
      },
      "execution_count": null,
      "outputs": []
    },
    {
      "cell_type": "code",
      "source": [
        "liste_mots"
      ],
      "metadata": {
        "id": "HAsK7u2PewP9"
      },
      "execution_count": null,
      "outputs": []
    },
    {
      "cell_type": "markdown",
      "source": [
        "Maintenant on va essayer de manipuler les valeurs à l'intérieur de la liste. Comment feriez-vous pour faire que le 3ème mot soit \"XXX\" ?"
      ],
      "metadata": {
        "id": "OHTg8_hDY7BA"
      }
    },
    {
      "cell_type": "code",
      "source": [
        "liste_mots=phrase.split()"
      ],
      "metadata": {
        "id": "j5WRoSZWgdEK"
      },
      "execution_count": null,
      "outputs": []
    },
    {
      "cell_type": "code",
      "source": [
        "liste_mots[2]=\"XXX\""
      ],
      "metadata": {
        "id": "6IcDw8O0ZS1Y"
      },
      "execution_count": null,
      "outputs": []
    },
    {
      "cell_type": "code",
      "source": [
        "liste_mots"
      ],
      "metadata": {
        "id": "ccWxuaxdf7JP"
      },
      "execution_count": null,
      "outputs": []
    },
    {
      "cell_type": "markdown",
      "source": [
        "Reprenons maintenant notre liste et voyons de combien d'éléments elle est composée avec la fonction pré-implémentée `len(nomDeLaListe)`."
      ],
      "metadata": {
        "id": "BD14uc2Zcab0"
      }
    },
    {
      "cell_type": "code",
      "source": [
        "len(liste_mots)"
      ],
      "metadata": {
        "id": "HnWVSP8RctV4"
      },
      "execution_count": null,
      "outputs": []
    },
    {
      "cell_type": "markdown",
      "source": [
        "Maintenant, tentons de créer deux listes. D'abord de façon simple, en reprenons les variables `mot1`, `mot2`, etc.\n",
        "<br>D'abord, instanciez une liste comme ça :\n",
        "<br>`liste1=[mot1, mot2, mot3, mot4]`\n",
        "Maintenant essayez d'ajouter des valeurs. Comment faites-vous ?"
      ],
      "metadata": {
        "id": "g39WHt_8a-9z"
      }
    },
    {
      "cell_type": "code",
      "source": [
        "liste1=[mot1, mot2, mot3, mot4]"
      ],
      "metadata": {
        "id": "C35FEENZb9av"
      },
      "execution_count": null,
      "outputs": []
    },
    {
      "cell_type": "code",
      "source": [
        "liste1"
      ],
      "metadata": {
        "id": "0sFvXHfQg-nK"
      },
      "execution_count": null,
      "outputs": []
    },
    {
      "cell_type": "markdown",
      "source": [
        "Créez maintenant une `liste2` qui contienne le reste des mots."
      ],
      "metadata": {
        "id": "T5byM4VYc6sd"
      }
    },
    {
      "cell_type": "code",
      "source": [
        "liste2=[liste_mots[4], liste_mots[5], liste_mots[6], liste_mots[7]]"
      ],
      "metadata": {
        "id": "MgO6o3UjdEPT"
      },
      "execution_count": null,
      "outputs": []
    },
    {
      "cell_type": "code",
      "source": [
        "liste2"
      ],
      "metadata": {
        "id": "-B-YgkAChcV9"
      },
      "execution_count": null,
      "outputs": []
    },
    {
      "cell_type": "markdown",
      "source": [
        "Maintenant, souvenez-vous. Vous aviez exécuté la commande :\n",
        "<br>`liste_mots=liste_mots+1`\n",
        "Et ça n'avait déjà pas marché. Essayez maintenant avec `liste_mots=liste_mots+mot1`.\n",
        "<br>Que se passe-t-il ?\n"
      ],
      "metadata": {
        "id": "tesZdFYcdEq9"
      }
    },
    {
      "cell_type": "code",
      "source": [
        "liste_mots=liste_mots+mot1"
      ],
      "metadata": {
        "id": "0cP0aeiadvHF"
      },
      "execution_count": null,
      "outputs": []
    },
    {
      "cell_type": "markdown",
      "source": [
        "Maintenant, tentez `liste1 + liste2`."
      ],
      "metadata": {
        "id": "uxtWN9bldv2f"
      }
    },
    {
      "cell_type": "code",
      "source": [
        "liste1+liste2"
      ],
      "metadata": {
        "id": "91O5-cSld4Jc"
      },
      "execution_count": null,
      "outputs": []
    },
    {
      "cell_type": "markdown",
      "source": [
        "Il est donc possible de concaténer des objets de même type, même si l'on peut ajouter des valeurs de tout type dans les listes."
      ],
      "metadata": {
        "id": "qwt_OmWQd53o"
      }
    },
    {
      "cell_type": "markdown",
      "source": [
        "# Exercice"
      ],
      "metadata": {
        "id": "Xsw1bZegeIzZ"
      }
    },
    {
      "cell_type": "markdown",
      "source": [
        "Maintenant prenez aussi une phrase de votre choix et encapsulez-là dans une variable."
      ],
      "metadata": {
        "id": "ZV8puOlkeNpc"
      }
    },
    {
      "cell_type": "code",
      "source": [
        "phrase_test=\"Comme la nuit se fait Lorsque le jour s'en va\""
      ],
      "metadata": {
        "id": "al2c_bp7eDsU"
      },
      "execution_count": null,
      "outputs": []
    },
    {
      "cell_type": "markdown",
      "source": [
        "Ensuite, faites-en une liste de mots qui porte le nom `ma_liste`."
      ],
      "metadata": {
        "id": "vBcflZA8eUW1"
      }
    },
    {
      "cell_type": "code",
      "source": [],
      "metadata": {
        "id": "sEmxYL4ieaPz"
      },
      "execution_count": null,
      "outputs": []
    },
    {
      "cell_type": "markdown",
      "source": [
        "Ajoutez-y une valeur de type `int`. Puis imprimez-la."
      ],
      "metadata": {
        "id": "PPqVjw7sebf3"
      }
    },
    {
      "cell_type": "code",
      "source": [],
      "metadata": {
        "id": "i3f2tfZlegr_"
      },
      "execution_count": null,
      "outputs": []
    },
    {
      "cell_type": "markdown",
      "source": [
        "Enlevez maintenant la valeur que vous venez d'ajouter."
      ],
      "metadata": {
        "id": "LSNu2wIiehRX"
      }
    },
    {
      "cell_type": "code",
      "source": [],
      "metadata": {
        "id": "p3Xl96XAepTL"
      },
      "execution_count": null,
      "outputs": []
    },
    {
      "cell_type": "code",
      "source": [
        "ma_liste"
      ],
      "metadata": {
        "id": "UGxYKfGXj-z_"
      },
      "execution_count": null,
      "outputs": []
    },
    {
      "cell_type": "markdown",
      "source": [
        "# Les boucles"
      ],
      "metadata": {
        "id": "PKiwshE8exCF"
      }
    },
    {
      "cell_type": "markdown",
      "source": [
        "Maintenant, nous voulons une manière plus pratique pour parcourir les listes. En effet, imaginez que votre liste contienne un million de mots et que vous vouliez voir certains de ces mots : vous ne pourriez pas créer une variable pour chaque mot, et parcourir un à un les éléments de la liste.\n",
        "<br>C'est à ça que servent les boucles."
      ],
      "metadata": {
        "id": "goFAH1gjez8R"
      }
    },
    {
      "cell_type": "markdown",
      "source": [
        "## Les boucles `for`"
      ],
      "metadata": {
        "id": "QfgFht7_gBfx"
      }
    },
    {
      "cell_type": "markdown",
      "source": [
        "Une boucle `for` permet de parcourir l'intégralité d'une liste comme ça :\n",
        "```python\n",
        "for element in ma_liste:\n",
        "  print(element)\n",
        "```\n",
        "<br>En fait, `element` pourrait tout à fait s'appeler autrement, c'est juste une variable éphémère qui représente chaque élément de la liste. <br>Essayez d'abord en copiant le code tel quel.\n",
        "\n",
        "\n",
        "\n",
        "\n",
        "\n",
        "\n"
      ],
      "metadata": {
        "id": "iM9zSp65gHPc"
      }
    },
    {
      "cell_type": "code",
      "source": [],
      "metadata": {
        "id": "pkmZEy9Xezcg"
      },
      "execution_count": null,
      "outputs": []
    },
    {
      "cell_type": "markdown",
      "source": [
        "Maintenant, essayez de faire la même chose en changeant le nom `element` en `test`."
      ],
      "metadata": {
        "id": "kHKQf6kih-8A"
      }
    },
    {
      "cell_type": "code",
      "source": [],
      "metadata": {
        "id": "_6qibtIUiHCN"
      },
      "execution_count": null,
      "outputs": []
    },
    {
      "cell_type": "markdown",
      "source": [
        "## Les boucles `while`"
      ],
      "metadata": {
        "id": "gqoZstufiS1N"
      }
    },
    {
      "cell_type": "markdown",
      "source": [
        "C'est un peu la même chose pour les boucles `while`, mais les conditions d'itération sont un peu plus explicites. La boucle `while` est l'équivalent du \"tant que cette condition est remplie, fais ça\".\n"
      ],
      "metadata": {
        "id": "t2ZytqUdiily"
      }
    },
    {
      "cell_type": "markdown",
      "source": [
        "D'après vous, si j'écris ça :\n",
        "```python\n",
        "while index < len(ma_liste):\n",
        "  print(ma_liste[index])\n",
        "  index+=1\n",
        "```\n",
        "Qu'est-ce que cela fait ? Pouvez-vous m'expliquer ?"
      ],
      "metadata": {
        "id": "j8zDVlhPi3kh"
      }
    },
    {
      "cell_type": "markdown",
      "source": [
        "# Exercice"
      ],
      "metadata": {
        "id": "hsQOHg3Hjnr-"
      }
    },
    {
      "cell_type": "markdown",
      "source": [
        "Maintenant, nous allons changer les valeurs de la liste en quelques lignes.\n",
        "<br>Vous devrez mettre toutes les valeurs en majuscules grâce à la fonction pré-implémentée `.upper()`.\n",
        "<br>Voilà comment on utilise `.upper()`:\n",
        "```python\n",
        "element=element.upper()\n",
        "```"
      ],
      "metadata": {
        "id": "Ti4y3j_cjrgM"
      }
    },
    {
      "cell_type": "markdown",
      "source": [
        "Maintenant, créez une `nouvelle_liste` qui soit une copie de `liste_mots`. Imprimez chaque mot de la nouvelle liste en majuscule.\n",
        "<br>Faites sur ce modèle :\n",
        "```python\n",
        "for scoubidou in nouvelle_liste:\n",
        "  print(scoubidou.upper())\n",
        "```"
      ],
      "metadata": {
        "id": "YJdOK4DJkW2F"
      }
    },
    {
      "cell_type": "code",
      "source": [
        "nouvelle_liste= list()"
      ],
      "metadata": {
        "id": "fA_CAfksYFJh"
      },
      "execution_count": null,
      "outputs": []
    },
    {
      "cell_type": "code",
      "source": [],
      "metadata": {
        "id": "Nvw8-y8FjqZA"
      },
      "execution_count": null,
      "outputs": []
    },
    {
      "cell_type": "markdown",
      "source": [
        "## Ce qui est itérable et ce qui ne l'est pas"
      ],
      "metadata": {
        "id": "M01TOkCZoC9u"
      }
    },
    {
      "cell_type": "markdown",
      "source": [
        "En fonction des objets que vous allez avoir, vous pourrez, ou non, les considérer comme des listes et les parcourir. Voyons quelques exemples."
      ],
      "metadata": {
        "id": "Fwy-ms2FoMV2"
      }
    },
    {
      "cell_type": "markdown",
      "source": [
        "D'abord, une liste. Faites une itération sur une liste que vous créez dans la même cellule."
      ],
      "metadata": {
        "id": "MxYuTsYboU2u"
      }
    },
    {
      "cell_type": "code",
      "source": [],
      "metadata": {
        "id": "CoVRMty-oLHi"
      },
      "execution_count": null,
      "outputs": []
    },
    {
      "cell_type": "markdown",
      "source": [
        "Ensuite, essayons avec une `int`. N'oubliez pas d'instancier une `int`. Par exemple\n",
        "```python\n",
        "for test in myInt:\n",
        "  print(\"ça itère\")\n",
        "```"
      ],
      "metadata": {
        "id": "ksU75pEKoayK"
      }
    },
    {
      "cell_type": "code",
      "source": [],
      "metadata": {
        "id": "LkoZk9dhpGu0"
      },
      "execution_count": null,
      "outputs": []
    },
    {
      "cell_type": "markdown",
      "source": [
        "Enfin essayons sur une `string`. Mettons que vous voulez itérer sur la chaîne `\"bonjour\"`."
      ],
      "metadata": {
        "id": "fxnrCFRlo4fk"
      }
    },
    {
      "cell_type": "code",
      "source": [],
      "metadata": {
        "id": "cCuItwubo3D3"
      },
      "execution_count": null,
      "outputs": []
    },
    {
      "cell_type": "markdown",
      "source": [
        "Vous pouvez donc constater qu'on peut itérer sur de nombreux objets différents, les plus fréquents en python étant les sets, les listes et les dictionnaires. Voyons la différence entre ces objets.\n",
        "<br>Créons d'abord un tableau avec des valeurs dedans, qu'on va ajouter à différents objets itérables."
      ],
      "metadata": {
        "id": "QEdLt9y7pImx"
      }
    },
    {
      "cell_type": "code",
      "source": [
        "mon_contenu = [\"Je\", \"le\", \"veux\", \",\", \"je\", \"l'\", \"ordonne\", \",\", \"et\", \"je\", \"l'\",\"exige\", \".\"]"
      ],
      "metadata": {
        "id": "M7lgi7XYpgwg"
      },
      "execution_count": null,
      "outputs": []
    },
    {
      "cell_type": "markdown",
      "source": [
        "Ensuite, vous pouvez créer deux objets, `liste_test` et `set_test`, comme ceci :\n",
        "```python\n",
        "liste_test=list()\n",
        "set_test=set()\n",
        "```"
      ],
      "metadata": {
        "id": "l3ciXvAAr1B2"
      }
    },
    {
      "cell_type": "code",
      "source": [],
      "metadata": {
        "id": "9pQIAxjkrwj9"
      },
      "execution_count": null,
      "outputs": []
    },
    {
      "cell_type": "markdown",
      "source": [
        "Maintenant on va y ajouter des objets présents dans `mon_contenu`. Pour ajouter dans une liste, on utilise la fonction `.extend(lObjetAAjouter)`, et pour un set la fonction `.update(lObjetAAjouter)`."
      ],
      "metadata": {
        "id": "1hP1V287sMu7"
      }
    },
    {
      "cell_type": "code",
      "source": [],
      "metadata": {
        "id": "4yMnG61ZshFa"
      },
      "execution_count": null,
      "outputs": []
    },
    {
      "cell_type": "code",
      "source": [
        "liste_test"
      ],
      "metadata": {
        "id": "dkEIwm0ncYYy"
      },
      "execution_count": null,
      "outputs": []
    },
    {
      "cell_type": "code",
      "source": [],
      "metadata": {
        "id": "IHKTJnsPc5Ix"
      },
      "execution_count": null,
      "outputs": []
    },
    {
      "cell_type": "code",
      "source": [
        "set_test"
      ],
      "metadata": {
        "id": "dAJcW7DGc_Jv"
      },
      "execution_count": null,
      "outputs": []
    },
    {
      "cell_type": "markdown",
      "source": [
        "Imprimez ensuite le contenu des deux (soit dans une boucle, soit en brut). Que constatez-vous ?"
      ],
      "metadata": {
        "id": "ufiUBPLstQcZ"
      }
    },
    {
      "cell_type": "code",
      "source": [],
      "metadata": {
        "id": "KJ_UeZt4ssZf"
      },
      "execution_count": null,
      "outputs": []
    },
    {
      "cell_type": "markdown",
      "source": [
        "On va maintenant voir un type d'objet qui sera extrêmement utile et utilisé en programmation ayant pour objet du texte : les dictionnaires.\n",
        "<br>Le principe est simple, on a une clé, et à cette clé correspond une valeur. La clé et la valeur peuvent être tout type d'objet.\n",
        "<br>Un exemple type :\n",
        "```python\n",
        "mon_dictionnaire=dict()\n",
        "mon_dictionnaire['c']=3\n",
        "```\n",
        "<br>J'ajoute la clé d'entrée `\"c\"` et je lui donne la valeur `3`."
      ],
      "metadata": {
        "id": "qY0NYPz0tXU7"
      }
    },
    {
      "cell_type": "code",
      "source": [],
      "metadata": {
        "id": "rduOnnz2eljh"
      },
      "execution_count": null,
      "outputs": []
    },
    {
      "cell_type": "code",
      "source": [
        "mon_dictionnaire"
      ],
      "metadata": {
        "id": "N6PxSsPDuPGE"
      },
      "execution_count": null,
      "outputs": []
    },
    {
      "cell_type": "markdown",
      "source": [
        "Ce type de dictionnaire est très strict : quand une valeur n'est pas correctement déclarée dès le départ, ou quand par exemple vous connaissez une clé mais pas sa valeur (ça arrive souvent), un dictionnaire brut va poser des problèmes. On utilise alors souvent un autre type de dictionnaire, le `defaultdict`, qui permet d'attribuer des valeurs par défaut.\n",
        "<br>Par exemple, mettons que vous parcouriez un document excel, et que certaines cases soient vides. Si vous stockez les valeurs vides dans un dictionnaire traditionnel, vous allez avoir une erreur de type `NoneType`, c'est-à-dire que le dictionnaire n'engrangera pas de valeurs nulles.\n",
        "<br>Pour éviter ça, on va utiliser des dictionnaires qui proposent des valeurs par défaut quand celles-ci ne sont pas spécifiées."
      ],
      "metadata": {
        "id": "QfsGegVJuk2n"
      }
    },
    {
      "cell_type": "markdown",
      "source": [
        "Pour cela, vous aurez besoin d'un module aussi très utilisé, `collections`."
      ],
      "metadata": {
        "id": "Vh-q1280vUc1"
      }
    },
    {
      "cell_type": "code",
      "source": [
        "from collections import defaultdict"
      ],
      "metadata": {
        "id": "DRqZlTVfuRq0"
      },
      "execution_count": null,
      "outputs": []
    },
    {
      "cell_type": "code",
      "source": [
        "mon_default_dict=defaultdict(int)\n",
        "print(mon_default_dict['une_cle_inexistante'])"
      ],
      "metadata": {
        "id": "rXHks1wQvbeS"
      },
      "execution_count": null,
      "outputs": []
    },
    {
      "cell_type": "markdown",
      "source": [
        "Notez qu'il faut quand même préciser une chose pour le `defaultdict`, c'est le type de valeur auquel renvoie la clé."
      ],
      "metadata": {
        "id": "P3MhvaTavz6l"
      }
    },
    {
      "cell_type": "markdown",
      "source": [
        "Comparons maintenant les deux types.\n",
        "<br>Tentez une première cellule avec ce code :\n",
        "```python\n",
        "mon_dictionnaire_standard = {}\n",
        "print(mon_dictionnaire_standard['une_cle_inexistante'])\n",
        "```"
      ],
      "metadata": {
        "id": "iR-Juva1v-8S"
      }
    },
    {
      "cell_type": "code",
      "source": [],
      "metadata": {
        "id": "DZmt4P7gvtVk"
      },
      "execution_count": null,
      "outputs": []
    },
    {
      "cell_type": "markdown",
      "source": [
        "Que constatez-vous ?"
      ],
      "metadata": {
        "id": "53gTLvQi3EZB"
      }
    },
    {
      "cell_type": "markdown",
      "source": [
        "En fait, résoudre ce problème avec un dictionnaire traditionnel est plus compliqué, mais faisable. Mais on ne le verra pas ici."
      ],
      "metadata": {
        "id": "J0fmvQD6wiHM"
      }
    },
    {
      "cell_type": "markdown",
      "source": [
        "On va maintenant faire un rapide comptage des mots présents dans `mon_contenu`, et on va mettre pour chaque clé un mot, et pour chaque valeur le nombre de fois que le mot apparaît. Créez d'abord un dictionnaire.\n",
        "```python\n",
        "dictionnaire_occurrences = {}\n",
        "```\n",
        "Ensuite, essayez de m'expliquer avant quelle logique vous allez employer.\n",
        "<br>En gros, je vous mets sur la voie : pour tout mot présent dans `mon_contenu`, vous allez de voir voir si `dictionnaire_occurrences` contient déjà la clé-mot qu'on est en train de voir dans le parcours de la liste.\n",
        "<br>Si le mot est déjà présent comme clé dans le dictionnaire, il faudra augmenter la valeur de 1 (puisque ça signifie qu'il réapparaît), et si le mot n'est pas encore présent, la valeur correspondante à la nouvelle clé est 1.\n",
        "<br>Et si vous voulez être perfectionniste, vous mettrez les mots en basse casse avant de les passer au dictionnaire."
      ],
      "metadata": {
        "id": "4oOF8BwBxC67"
      }
    },
    {
      "cell_type": "code",
      "source": [],
      "metadata": {
        "id": "5ZtnPNQqwpax"
      },
      "execution_count": null,
      "outputs": []
    },
    {
      "cell_type": "code",
      "source": [],
      "metadata": {
        "id": "wNi2h2k4gwSj"
      },
      "execution_count": null,
      "outputs": []
    },
    {
      "cell_type": "code",
      "source": [
        "print(dictionnaire_occurrences)"
      ],
      "metadata": {
        "id": "-hhQbz7EiC76"
      },
      "execution_count": null,
      "outputs": []
    }
  ]
}