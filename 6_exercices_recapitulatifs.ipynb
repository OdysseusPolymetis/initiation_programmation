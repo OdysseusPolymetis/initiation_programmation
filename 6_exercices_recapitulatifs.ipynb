{
  "nbformat": 4,
  "nbformat_minor": 0,
  "metadata": {
    "colab": {
      "provenance": [],
      "authorship_tag": "ABX9TyMypiIpwzFc2BkY7BnXJc+Y",
      "include_colab_link": true
    },
    "kernelspec": {
      "name": "python3",
      "display_name": "Python 3"
    },
    "language_info": {
      "name": "python"
    }
  },
  "cells": [
    {
      "cell_type": "markdown",
      "metadata": {
        "id": "view-in-github",
        "colab_type": "text"
      },
      "source": [
        "<a href=\"https://colab.research.google.com/github/OdysseusPolymetis/initiation_programmation/blob/main/6_exercices_recapitulatifs.ipynb\" target=\"_parent\"><img src=\"https://colab.research.google.com/assets/colab-badge.svg\" alt=\"Open In Colab\"/></a>"
      ]
    },
    {
      "cell_type": "markdown",
      "source": [
        "# Exercices récapitulatifs\n",
        "<br>Certains des codes que je vais vous proposer sont fautifs. Vous devrez expliquer pourquoi et corriger dans une nouvelle cellule.\n",
        "<br><br>Dans d'autres cas, vous devrez écrire le code vous-mêmes avec des consignes."
      ],
      "metadata": {
        "id": "mDfwWDQoXEWe"
      }
    },
    {
      "cell_type": "markdown",
      "source": [
        "Que se passe-t-il dans cette cellule ?"
      ],
      "metadata": {
        "id": "oevWrymTXccH"
      }
    },
    {
      "cell_type": "code",
      "execution_count": null,
      "metadata": {
        "id": "hqC_gruIW8l7"
      },
      "outputs": [],
      "source": [
        "prenom = Alice\n",
        "age = 20\n",
        "\n",
        "print(\"Je m’appelle \" + prenom + \" et j’ai \" + age + \" ans.\")"
      ]
    },
    {
      "cell_type": "code",
      "source": [
        "#correction"
      ],
      "metadata": {
        "id": "m7bdUe9pXgYs"
      },
      "execution_count": null,
      "outputs": []
    },
    {
      "cell_type": "markdown",
      "source": [
        "Corrigez cette cellule."
      ],
      "metadata": {
        "id": "IeeU5GJFX4Kn"
      }
    },
    {
      "cell_type": "code",
      "source": [
        "age = 20\n",
        "\n",
        "if age = 20:\n",
        "  print(\"Age exact !\")\n",
        "elif age > 20\n",
        "  print(\"Age trop grand !\")\n",
        "else\n",
        "print(\"Age trop petit !\")"
      ],
      "metadata": {
        "id": "qR1_jDGRX3bd"
      },
      "execution_count": null,
      "outputs": []
    },
    {
      "cell_type": "code",
      "source": [
        "#correction"
      ],
      "metadata": {
        "id": "5a_BFTg7X7KL"
      },
      "execution_count": 1,
      "outputs": []
    },
    {
      "cell_type": "markdown",
      "source": [
        "Les fonctions de base."
      ],
      "metadata": {
        "id": "_XyX31Aka7Pl"
      }
    },
    {
      "cell_type": "code",
      "source": [
        "def saluer(nom)\n",
        "    print(\"Bonjour, \" + nom + \" !\")\n",
        "\n",
        "saluer()"
      ],
      "metadata": {
        "id": "0lIVcQWia86v"
      },
      "execution_count": null,
      "outputs": []
    },
    {
      "cell_type": "code",
      "source": [
        "#correction"
      ],
      "metadata": {
        "id": "ldZDmcLSa97D"
      },
      "execution_count": null,
      "outputs": []
    },
    {
      "cell_type": "markdown",
      "source": [
        "Même chose ici."
      ],
      "metadata": {
        "id": "WE8OkbTEYM6n"
      }
    },
    {
      "cell_type": "code",
      "source": [
        "def saluer():\n",
        "print(\"Bonjour !\")\n",
        "    print(\"Comment allez-vous ?\")\n",
        "\n",
        "print(\"Fin du programme.\")"
      ],
      "metadata": {
        "id": "rAqfif5YX8NT"
      },
      "execution_count": null,
      "outputs": []
    },
    {
      "cell_type": "code",
      "source": [
        "#correction"
      ],
      "metadata": {
        "id": "q1HJMz3iYQTn"
      },
      "execution_count": null,
      "outputs": []
    },
    {
      "cell_type": "markdown",
      "source": [
        "Un peu plus complexe ici."
      ],
      "metadata": {
        "id": "LQBPXU13ZBqT"
      }
    },
    {
      "cell_type": "code",
      "source": [
        "age = 25\n",
        "\n",
        "if age <= 12\n",
        "    print(\"Enfant\")\n",
        "elif age = 13 and age <= 17:\n",
        "    print(\"Ado\")\n",
        " else:\n",
        "  if age < 60\n",
        "     print(\"Adulte\")\n",
        "  else:\n",
        "      print(\"Senior\")"
      ],
      "metadata": {
        "id": "Xaq306nbZDcq"
      },
      "execution_count": null,
      "outputs": []
    },
    {
      "cell_type": "code",
      "source": [
        "#correction"
      ],
      "metadata": {
        "id": "BseY2u9qZH_n"
      },
      "execution_count": null,
      "outputs": []
    },
    {
      "cell_type": "markdown",
      "source": [
        "Les boucles maintenant. Level 1."
      ],
      "metadata": {
        "id": "SLdv2BJyZfIx"
      }
    },
    {
      "cell_type": "code",
      "source": [
        "fruits = [\"pomme\", \"banane\", \"poire\"]\n",
        "\n",
        "for fruit in fruits\n",
        "    print(fruit)\n",
        " print(\"Fin de la boucle\")"
      ],
      "metadata": {
        "id": "TbcyS4YJZhzK"
      },
      "execution_count": null,
      "outputs": []
    },
    {
      "cell_type": "code",
      "source": [
        "#correction"
      ],
      "metadata": {
        "id": "Qa4IIoN1Ziun"
      },
      "execution_count": null,
      "outputs": []
    },
    {
      "cell_type": "markdown",
      "source": [
        "Un peu plus dur."
      ],
      "metadata": {
        "id": "NtmwR3DGZppc"
      }
    },
    {
      "cell_type": "code",
      "source": [
        "for i in range[5]:\n",
        "print(i)\n",
        "    print(\"Terminé !\")"
      ],
      "metadata": {
        "id": "rTtD5XtYZq_A"
      },
      "execution_count": null,
      "outputs": []
    },
    {
      "cell_type": "code",
      "source": [
        "#correction"
      ],
      "metadata": {
        "id": "JNVh9S_bZsKh"
      },
      "execution_count": null,
      "outputs": []
    },
    {
      "cell_type": "markdown",
      "source": [
        "boucle while"
      ],
      "metadata": {
        "id": "RFkmNRCoZyxt"
      }
    },
    {
      "cell_type": "code",
      "source": [
        "compteur = 1\n",
        "\n",
        "while compteur <= 3\n",
        "  print(compteur)\n",
        "  compteur + 1\n",
        "\n",
        "print(\"Boucle terminée\")"
      ],
      "metadata": {
        "id": "QSI1FNWIZ0Gn"
      },
      "execution_count": null,
      "outputs": []
    },
    {
      "cell_type": "code",
      "source": [
        "#correction"
      ],
      "metadata": {
        "id": "mmeg8722Z2tP"
      },
      "execution_count": null,
      "outputs": []
    },
    {
      "cell_type": "markdown",
      "source": [
        "Même chose"
      ],
      "metadata": {
        "id": "ZMVPEcCzZ8A3"
      }
    },
    {
      "cell_type": "code",
      "source": [
        "nombre = 5\n",
        "\n",
        "while nombre < 10:\n",
        "    print(nombre)\n",
        "    # Manque quelque chose ?\n",
        "print(\"Fin\")"
      ],
      "metadata": {
        "id": "CIumsQKqZ9Qx"
      },
      "execution_count": null,
      "outputs": []
    },
    {
      "cell_type": "code",
      "source": [
        "#correction"
      ],
      "metadata": {
        "id": "5UWeB56VZ-T0"
      },
      "execution_count": null,
      "outputs": []
    },
    {
      "cell_type": "markdown",
      "source": [
        "Plus dur maintenant. Restez logiques au maximum. Attention aux détails."
      ],
      "metadata": {
        "id": "laKhI84faIly"
      }
    },
    {
      "cell_type": "code",
      "source": [
        "# Objectif : Pour chaque fruit, afficher chaque lettre sur une ligne.\n",
        "\n",
        "fruits = [\"pomme\", \"banane\", \"poire\"]\n",
        "\n",
        "for fruit in fruits:\n",
        "  for lettre in fruits:\n",
        "    print(lettre)\n",
        "    print(\"--\")\n",
        "\n",
        "print(\"Terminé\")"
      ],
      "metadata": {
        "id": "zgvsXLbJaNUf"
      },
      "execution_count": null,
      "outputs": []
    },
    {
      "cell_type": "code",
      "source": [
        "#correction"
      ],
      "metadata": {
        "id": "zKSNGzRnaQak"
      },
      "execution_count": null,
      "outputs": []
    },
    {
      "cell_type": "markdown",
      "source": [
        "Les listes et leurs index"
      ],
      "metadata": {
        "id": "StXWWD1ZaSDP"
      }
    },
    {
      "cell_type": "code",
      "source": [
        "fruits = [\"pomme\", \"banane\", \"poire\"]\n",
        "\n",
        "print(fruits[3])  # Erreur potentielle : l'indice 3 n'existe pas\n",
        "fruits[0] = \"orange\"\n",
        "fruits.append(\"fraise)\n",
        "print(fruits)"
      ],
      "metadata": {
        "id": "D82Nkf3abPKs"
      },
      "execution_count": null,
      "outputs": []
    },
    {
      "cell_type": "code",
      "source": [
        "#correction"
      ],
      "metadata": {
        "id": "goeN5FIIbQqy"
      },
      "execution_count": null,
      "outputs": []
    },
    {
      "cell_type": "markdown",
      "source": [
        "Les dictionnaires"
      ],
      "metadata": {
        "id": "F9RbLziTbdJv"
      }
    },
    {
      "cell_type": "code",
      "source": [
        "auteurs = {\n",
        "    \"Shakespeare\": \"Anglais\",\n",
        "    \"Molière\": \"Français\"\n",
        "}\n",
        "\n",
        "print(\"Nationalité de Dante :\", auteurs[\"Dante\"])\n",
        "auteurs[Dante] = \"Italien\"\n",
        "print(auteurs)"
      ],
      "metadata": {
        "id": "fJgCPi83beE0"
      },
      "execution_count": null,
      "outputs": []
    },
    {
      "cell_type": "code",
      "source": [
        "#correction"
      ],
      "metadata": {
        "id": "ifaBt7tebfpP"
      },
      "execution_count": null,
      "outputs": []
    },
    {
      "cell_type": "markdown",
      "source": [
        "## Maintenant à vous de coder. Vous aurez juste les instructions."
      ],
      "metadata": {
        "id": "OAi2kKPLcE1T"
      }
    },
    {
      "cell_type": "markdown",
      "source": [
        "## 1. Typage des variables\n",
        "\n",
        "### Exercice : Conversion de types\n",
        "\n",
        "**Objectif :** se familiariser avec les types de base (entier, flottant, chaîne) et la conversion (`int()`, `float()`, `str()`).\n",
        "\n",
        "1. Créez deux variables, `a` et `b` :\n",
        "   - `a` contient un **entier** (par exemple 10).\n",
        "   - `b` contient une **chaîne de caractères** représentant un nombre (par exemple `\"3.5\"`).\n",
        "2. Affichez la somme de `a` et de `b`. Vous obtiendrez probablement une erreur ou un résultat incorrect : *expliquez pourquoi*.\n",
        "3. Corrigez le programme en convertissant correctement `b` en **Float** avant la somme. Affichez le résultat.\n",
        "4. Affichez un message du type : « La somme de X et Y est Z », en prenant garde de convertir correctement les variables. Vous pouvez utiliser :\n",
        "   - La **concaténation** avec `+` et `str()`, ou\n",
        "   - Une **f-string** (ex. `f\"La somme de {a} et {b} est {resultat}\"`)."
      ],
      "metadata": {
        "id": "oBJN7p6vcgX0"
      }
    },
    {
      "cell_type": "code",
      "source": [],
      "metadata": {
        "id": "kI6EkdRmcJaO"
      },
      "execution_count": null,
      "outputs": []
    },
    {
      "cell_type": "markdown",
      "source": [
        "## 2. Conditions\n",
        "\n",
        "### Exercice : Deviner un nombre\n",
        "\n",
        "**Objectif :** Utiliser des conditions (`if`, `elif`, `else`) pour comparer un nombre.\n",
        "\n",
        "1. Définissez :\n",
        "   ```python\n",
        "   nombre_secret = 7\n",
        "   guess = 5\n",
        "   ```\n",
        "   (Ici, `guess` représente une tentative de deviner `nombre_secret`.)\n",
        "2. Comparez `guess` à `nombre_secret` :\n",
        "   - S’il est **inférieur**, stockez ou affichez : « C’est trop petit ! »\n",
        "   - S’il est **supérieur**, indiquez : « C’est trop grand ! »\n",
        "   - S’il est **égal**, indiquez : « Bravo, c’est gagné ! »\n",
        "3. Testez votre code avec plusieurs valeurs différentes pour \\`guess\\`."
      ],
      "metadata": {
        "id": "lV8DMU6oetqJ"
      }
    },
    {
      "cell_type": "code",
      "source": [],
      "metadata": {
        "id": "UqYRR9lxfBC-"
      },
      "execution_count": null,
      "outputs": []
    },
    {
      "cell_type": "markdown",
      "source": [
        "## 3. Boucles (exercice simple)\n",
        "\n",
        "### Exercice : Afficher les multiples d’un nombre\n",
        "\n",
        "**Objectif :** Maîtriser la boucle `for` ou `while`.\n",
        "\n",
        "1. Définissez :\n",
        "   ```python\n",
        "   n = 3\n",
        "   ```\n",
        "2. Affichez ses multiples de `1 × n` jusqu’à `5 × n`.\n",
        "   - On devrait obtenir `3, 6, 9, 12, 15` si `n = 3`.\n",
        "3. Vous pouvez utiliser soit :\n",
        "   - Une **boucle `for`** avec `range()`,\n",
        "   - Ou une **boucle `while`** qui incrémente un compteur.\n",
        "\n",
        "**Idée :** Pour vérifier, modifiez la valeur de `n` (ex. `n = 2` ou `n = 4`) et observez la sortie.\n"
      ],
      "metadata": {
        "id": "hrdMkzsUfBY8"
      }
    },
    {
      "cell_type": "code",
      "source": [],
      "metadata": {
        "id": "eNJphSuzfQga"
      },
      "execution_count": null,
      "outputs": []
    },
    {
      "cell_type": "markdown",
      "source": [
        "## 4. Boucles (exercice un peu plus complexe)\n",
        "\n",
        "### Exercice : Construction d’un triangle\n",
        "\n",
        "**Objectif :** Manipuler une boucle imbriquée ou un mécanisme d’affichage progressif.\n",
        "\n",
        "1. Définissez une hauteur `h`, par exemple :\n",
        "   ```python\n",
        "   h = 5\n",
        "   ```\n",
        "2. À partir de `h`, affichez un triangle de caractères `*`.  \n",
        "   Si `h = 5`, on veut  cinq lignes, avec une puis deux puis trois étoiles etc.\n",
        "3. Utilisez une **boucle principale** (de 1 à `h`) pour définir le nombre de lignes, et à l’intérieur, une seconde boucle pour afficher le bon nombre d’étoiles à chaque ligne.\n",
        "\n"
      ],
      "metadata": {
        "id": "EmY7iCqFfccs"
      }
    },
    {
      "cell_type": "code",
      "source": [],
      "metadata": {
        "id": "yNx5_4spf-Ic"
      },
      "execution_count": null,
      "outputs": []
    },
    {
      "cell_type": "markdown",
      "source": [
        "## 5. Parcours des listes\n",
        "\n",
        "### Exercice : Analyse de notes\n",
        "\n",
        "**Objectif :** Se familiariser avec l’indexation, la méthode `append()`, et le parcours d’une liste.\n",
        "\n",
        "1. Créez une liste :\n",
        "```python\n",
        "notes = [12, 9, 15, 17, 10]\n",
        "```\n",
        "2. Parcourez cette liste avec une boucle pour :\n",
        "- Calculer la **moyenne** des notes.\n",
        "- Trouver la note **maximale** et **minimale** (vous pouvez utiliser `max()` et `min()`, mais vous pouvez aussi faire un parcours manuel).\n",
        "3. Affichez la moyenne, la note min et la note max.\n",
        "4. Ajoutez une nouvelle note (par exemple `14`) en fin de liste avec `append()`. Affichez la liste mise à jour."
      ],
      "metadata": {
        "id": "ItdJRoMYgHyi"
      }
    },
    {
      "cell_type": "code",
      "source": [],
      "metadata": {
        "id": "twukO-ftgUBv"
      },
      "execution_count": null,
      "outputs": []
    },
    {
      "cell_type": "markdown",
      "source": [
        "## 6. Création de fonction\n",
        "\n",
        "### Exercice : Fonction de calcul d’aire\n",
        "\n",
        "**Objectif :** Apprendre la syntaxe `def nom_de_fonction(paramètres): return …` et l’appel de fonction.\n",
        "\n",
        "1. Écrivez une fonction `aire_rectangle(largeur, hauteur)` qui **retourne** l’aire, c’est-à-dire `largeur × hauteur`.\n",
        "2. Testez cette fonction en l’appelant avec différentes valeurs :\n",
        "```python\n",
        "resultat = aire_rectangle(4, 5)  # devrait donner 20\n",
        "print(resultat)\n",
        "```\n",
        "3. Affichez le résultat sous forme de phrase, par exemple : `L'aire d'un rectangle de 4 sur 5 est 20`."
      ],
      "metadata": {
        "id": "zbSwvk1WgbAR"
      }
    },
    {
      "cell_type": "code",
      "source": [],
      "metadata": {
        "id": "5sqGICB9grvF"
      },
      "execution_count": null,
      "outputs": []
    },
    {
      "cell_type": "markdown",
      "source": [
        "## 7. Exercice final (simple) : Mélange des notions\n",
        "\n",
        "### Contexte : Gestion d’invités\n",
        "\n",
        "**Objectif :** Réviser les variables, conditions, boucles, fonctions, listes.\n",
        "\n",
        "1. Créez une liste vide `invites = []`.\n",
        "2. Écrivez une fonction `ajouter_invite(nom)` qui ajoute un nom à la liste `invites`.\n",
        "3. Simulez l’ajout de 3 noms d’invités en appelant la fonction trois fois, par exemple :\n",
        "```python\n",
        "ajouter_invite(\"Alice\")\n",
        "ajouter_invite(\"Bob\")\n",
        "ajouter_invite(\"Charlie\")\n",
        "```\n",
        "4. Affichez la liste complète des invités.\n",
        "5. Si la liste est vide (cas extrême), affichez un message « Aucune invitation »."
      ],
      "metadata": {
        "id": "JbtyMUb3gsXv"
      }
    },
    {
      "cell_type": "code",
      "source": [],
      "metadata": {
        "id": "ixKfOqwwg6YB"
      },
      "execution_count": null,
      "outputs": []
    },
    {
      "cell_type": "markdown",
      "source": [],
      "metadata": {
        "id": "d91Yhb0Tg69v"
      }
    }
  ]
}