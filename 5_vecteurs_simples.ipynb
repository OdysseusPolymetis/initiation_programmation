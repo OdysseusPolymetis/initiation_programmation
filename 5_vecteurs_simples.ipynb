{
  "nbformat": 4,
  "nbformat_minor": 0,
  "metadata": {
    "colab": {
      "provenance": [],
      "gpuType": "T4",
      "authorship_tag": "ABX9TyMQiKL+U3konmQsGPP2YTjP",
      "include_colab_link": true
    },
    "kernelspec": {
      "name": "python3",
      "display_name": "Python 3"
    },
    "language_info": {
      "name": "python"
    },
    "accelerator": "GPU"
  },
  "cells": [
    {
      "cell_type": "markdown",
      "metadata": {
        "id": "view-in-github",
        "colab_type": "text"
      },
      "source": [
        "<a href=\"https://colab.research.google.com/github/OdysseusPolymetis/initiation_programmation/blob/main/5_vecteurs_simples.ipynb\" target=\"_parent\"><img src=\"https://colab.research.google.com/assets/colab-badge.svg\" alt=\"Open In Colab\"/></a>"
      ]
    },
    {
      "cell_type": "code",
      "source": [
        "!pip install stanza"
      ],
      "metadata": {
        "id": "p-kEJJftX0qB"
      },
      "execution_count": null,
      "outputs": []
    },
    {
      "cell_type": "markdown",
      "source": [
        "Pour cette partie-là, il vous faut créer un dossier \"dossier\" et y mettre vos txt."
      ],
      "metadata": {
        "id": "fbkifn7TcrC-"
      }
    },
    {
      "cell_type": "code",
      "execution_count": null,
      "metadata": {
        "id": "UtOrPstVKIuk"
      },
      "outputs": [],
      "source": [
        "import os\n",
        "import stanza\n",
        "from gensim.models import Word2Vec\n",
        "import numpy as np\n",
        "\n",
        "stanza.download('fr')\n",
        "nlp = stanza.Pipeline('fr', processors='tokenize,pos,lemma')\n",
        "\n",
        "folder_path = \"/content/dossier\"\n",
        "\n",
        "define_batch_size = 1024  # Taille dynamique du batch\n",
        "\n",
        "def batch_process_texts(folder_path, batch_size=define_batch_size):\n",
        "    all_sentences = []\n",
        "    texts = []\n",
        "    for filename in os.listdir(folder_path):\n",
        "        if filename.endswith(\".txt\"):\n",
        "            with open(os.path.join(folder_path, filename), 'r', encoding='utf-8') as file:\n",
        "                texts.append(file.read())\n",
        "\n",
        "    paragraphs = \"\\n\".join(texts).split(\"\\n\")\n",
        "    batches = [paragraphs[i:i + batch_size] for i in range(0, len(paragraphs), batch_size)]\n",
        "\n",
        "    for batch in batches:\n",
        "        batch_text = \"\\n\".join(batch)\n",
        "        doc = nlp(batch_text)\n",
        "        for sentence in doc.sentences:\n",
        "            lemmatized_sentence = [word.lemma for word in sentence.words if word.lemma is not None]\n",
        "            all_sentences.append(lemmatized_sentence)\n",
        "\n",
        "    return all_sentences\n",
        "\n",
        "sentences = batch_process_texts(folder_path, batch_size=define_batch_size)\n",
        "\n",
        "model = Word2Vec(sentences, vector_size=100, window=5, min_count=2, sg=1, )\n",
        "model.save(\"word2vec_model.model\")\n",
        "\n",
        "def word_similarity(word1, word2):\n",
        "    return model.wv.similarity(word1, word2)\n",
        "\n",
        "def word_analogy(word1, word2, word3):\n",
        "    return model.wv.most_similar(positive=[word2, word3], negative=[word1])"
      ]
    },
    {
      "cell_type": "code",
      "source": [
        "def most_similar_words(word, topn=10):\n",
        "    try:\n",
        "        similar_words = model.wv.most_similar(word, topn=topn)\n",
        "        for w, sim in similar_words:\n",
        "            print(f\"{w}: {sim:.4f}\")\n",
        "    except KeyError:\n",
        "        print(f\"Le mot '{word}' n'est pas dans le vocabulaire du modèle.\")"
      ],
      "metadata": {
        "id": "LMYbgCHLcZPo"
      },
      "execution_count": null,
      "outputs": []
    },
    {
      "cell_type": "code",
      "source": [
        "with open(\"vectors.tsv\", \"w\", encoding=\"utf-8\") as vec_file, open(\"metadata.tsv\", \"w\", encoding=\"utf-8\") as meta_file:\n",
        "    for word in model.wv.index_to_key:\n",
        "        vector = model.wv[word]\n",
        "        vec_file.write(\"\\t\".join([str(x) for x in vector]) + \"\\n\")\n",
        "        meta_file.write(word + \"\\n\")\n",
        "\n",
        "print(\"Export terminé : vectors.tsv et metadata.tsv sont prêts pour TensorFlow Projector.\")"
      ],
      "metadata": {
        "id": "xPLAXzs7Xypg"
      },
      "execution_count": null,
      "outputs": []
    },
    {
      "cell_type": "code",
      "source": [
        "word_similarity(\"esprit\", \"courage\")"
      ],
      "metadata": {
        "id": "LbLQg1kGb_iy"
      },
      "execution_count": null,
      "outputs": []
    },
    {
      "cell_type": "code",
      "source": [
        "most_similar_words(\"roi\", topn=10)"
      ],
      "metadata": {
        "id": "0kVsQgX1cSTG"
      },
      "execution_count": null,
      "outputs": []
    },
    {
      "cell_type": "code",
      "source": [],
      "metadata": {
        "id": "92eWhJ8Gcc6j"
      },
      "execution_count": null,
      "outputs": []
    }
  ]
}